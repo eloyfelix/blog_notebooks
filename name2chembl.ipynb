{
 "cells": [
  {
   "cell_type": "markdown",
   "metadata": {},
   "source": [
    "# Drug name to ChEMBL function\n",
    "\n",
    "Single function using chembl_webresource_client: https://pypi.org/project/chembl-webresource-client/\n",
    "\n",
    "Tries 3 different things (in order):\n",
    "\n",
    "1. Case insensitive match against molecule_dictionary.pref_name\n",
    "2. Case insensitive match against molecule_synonyms.synonyms\n",
    "3. Use elastic search as a last resort (optional)\n",
    "\n",
    "Note: not all pref_name are included in molecule_synonyms so it's not possible to skip step 1.\n",
    "\n",
    "A name can match against many chembl compounds. Compounds are sorted by max_phase. Manual curation should be considered under this situation (reason to keep smiles, inchi and inchi key)."
   ]
  },
  {
   "cell_type": "code",
   "execution_count": 1,
   "metadata": {
    "tags": []
   },
   "outputs": [
    {
     "output_type": "stream",
     "name": "stdout",
     "text": "Requirement already satisfied: chembl_webresource_client in /Users/efelix/miniconda3/envs/python38/lib/python3.8/site-packages (0.10.2)\nRequirement already satisfied: requests-cache>=0.4.7 in /Users/efelix/miniconda3/envs/python38/lib/python3.8/site-packages (from chembl_webresource_client) (0.5.2)\nRequirement already satisfied: easydict in /Users/efelix/miniconda3/envs/python38/lib/python3.8/site-packages (from chembl_webresource_client) (1.9)\nRequirement already satisfied: requests>=2.18.4 in /Users/efelix/miniconda3/envs/python38/lib/python3.8/site-packages (from chembl_webresource_client) (2.23.0)\nRequirement already satisfied: urllib3 in /Users/efelix/miniconda3/envs/python38/lib/python3.8/site-packages (from chembl_webresource_client) (1.25.8)\nRequirement already satisfied: chardet<4,>=3.0.2 in /Users/efelix/miniconda3/envs/python38/lib/python3.8/site-packages (from requests>=2.18.4->chembl_webresource_client) (3.0.4)\nRequirement already satisfied: certifi>=2017.4.17 in /Users/efelix/miniconda3/envs/python38/lib/python3.8/site-packages (from requests>=2.18.4->chembl_webresource_client) (2020.6.20)\nRequirement already satisfied: idna<3,>=2.5 in /Users/efelix/miniconda3/envs/python38/lib/python3.8/site-packages (from requests>=2.18.4->chembl_webresource_client) (2.9)\n"
    }
   ],
   "source": [
    "# install the webresource client\n",
    "!pip install chembl_webresource_client"
   ]
  },
  {
   "cell_type": "code",
   "execution_count": 2,
   "metadata": {},
   "outputs": [],
   "source": [
    "from chembl_webresource_client.new_client import new_client\n",
    "\n",
    "def name2chembl(name, use_search=False):\n",
    "    \"\"\"\n",
    "    Tries to retrieve the chembl_id and the structure for given a drug name.\n",
    "    \"\"\"\n",
    "    molecule = new_client.molecule\n",
    "    fields = [\"molecule_chembl_id\", \"pref_name\", \"max_phase\", \"molecule_structures\"]\n",
    "    # search in pref_name\n",
    "    # iexact does exact case insensitive search\n",
    "    res = molecule.filter(pref_name__iexact=name).only(fields)\n",
    "    res = list(res)\n",
    "    if res:\n",
    "        # sort by max_phase\n",
    "        res = sorted(res, key=lambda k: k[\"max_phase\"], reverse=True)\n",
    "        return res, \"pref_name\"\n",
    "    else:\n",
    "        # if no pref_name match, look at the synonyms\n",
    "        # some pref_name are not included in molecule_synonyms talbe so is not possible\n",
    "        # to skip the first step\n",
    "        res = molecule.filter(molecule_synonyms__molecule_synonym__iexact=name).only(fields)\n",
    "        res = list(res)\n",
    "        if res:\n",
    "            # sort by max_phase\n",
    "            res = sorted(res, key=lambda k: k[\"max_phase\"], reverse=True)\n",
    "            return res, \"synonyms\"\n",
    "        else:\n",
    "            if use_search:\n",
    "                # last resort:\n",
    "                #    search function uses elastic and could eventually retrieve inexact matches\n",
    "                #    can also take longer than previous calls\n",
    "                res = molecule.search(name).only(fields)[0]\n",
    "                if res:\n",
    "                    return [res], \"search\"\n",
    "    return None, None\n"
   ]
  },
  {
   "cell_type": "markdown",
   "metadata": {},
   "source": [
    "# Example where it gets a match from molecule_dictionary.pref_name"
   ]
  },
  {
   "cell_type": "code",
   "execution_count": 3,
   "metadata": {
    "tags": []
   },
   "outputs": [
    {
     "output_type": "stream",
     "name": "stdout",
     "text": "pref_name\n"
    },
    {
     "output_type": "execute_result",
     "data": {
      "text/plain": "[{'max_phase': 4,\n  'molecule_chembl_id': 'CHEMBL192',\n  'molecule_structures': {'canonical_smiles': 'CCCc1nn(C)c2c(=O)[nH]c(-c3cc(S(=O)(=O)N4CCN(C)CC4)ccc3OCC)nc12',\n   'molfile': '\\n     RDKit          2D\\n\\n 33 36  0  0  0  0  0  0  0  0999 V2000\\n    2.1000   -0.0042    0.0000 C   0  0  0  0  0  0  0  0  0  0  0  0\\n    2.1000    0.7000    0.0000 C   0  0  0  0  0  0  0  0  0  0  0  0\\n   -1.5375   -0.0042    0.0000 S   0  0  0  0  0  0  0  0  0  0  0  0\\n    1.4917   -0.3667    0.0000 N   0  0  0  0  0  0  0  0  0  0  0  0\\n    0.8792   -0.0042    0.0000 C   0  0  0  0  0  0  0  0  0  0  0  0\\n    2.8042    0.9083    0.0000 N   0  0  0  0  0  0  0  0  0  0  0  0\\n    1.4917    1.0625    0.0000 C   0  0  0  0  0  0  0  0  0  0  0  0\\n    0.8792    0.6833    0.0000 N   0  0  0  0  0  0  0  0  0  0  0  0\\n    3.2042    0.3458    0.0000 N   0  0  0  0  0  0  0  0  0  0  0  0\\n    2.8042   -0.2417    0.0000 C   0  0  0  0  0  0  0  0  0  0  0  0\\n    0.2875   -0.3750    0.0000 C   0  0  0  0  0  0  0  0  0  0  0  0\\n   -2.1583   -0.3750    0.0000 N   0  0  0  0  0  0  0  0  0  0  0  0\\n   -0.9333   -0.3750    0.0000 C   0  0  0  0  0  0  0  0  0  0  0  0\\n   -0.3208   -0.0333    0.0000 C   0  0  0  0  0  0  0  0  0  0  0  0\\n   -1.1875    0.6083    0.0000 O   0  0  0  0  0  0  0  0  0  0  0  0\\n   -1.8958    0.6083    0.0000 O   0  0  0  0  0  0  0  0  0  0  0  0\\n   -3.3958   -1.0917    0.0000 N   0  0  0  0  0  0  0  0  0  0  0  0\\n   -2.7833   -0.0042    0.0000 C   0  0  0  0  0  0  0  0  0  0  0  0\\n   -2.1583   -1.0917    0.0000 C   0  0  0  0  0  0  0  0  0  0  0  0\\n    0.2875   -1.1125    0.0000 C   0  0  0  0  0  0  0  0  0  0  0  0\\n    1.4917    1.7708    0.0000 O   0  0  0  0  0  0  0  0  0  0  0  0\\n   -0.9333   -1.1125    0.0000 C   0  0  0  0  0  0  0  0  0  0  0  0\\n   -0.3208   -1.4542    0.0000 C   0  0  0  0  0  0  0  0  0  0  0  0\\n   -3.3958   -0.3750    0.0000 C   0  0  0  0  0  0  0  0  0  0  0  0\\n   -2.7833   -1.4417    0.0000 C   0  0  0  0  0  0  0  0  0  0  0  0\\n    3.0750    1.5750    0.0000 C   0  0  0  0  0  0  0  0  0  0  0  0\\n    2.8042   -0.9500    0.0000 C   0  0  0  0  0  0  0  0  0  0  0  0\\n    0.8792   -1.4542    0.0000 O   0  0  0  0  0  0  0  0  0  0  0  0\\n   -3.9958   -1.4292    0.0000 C   0  0  0  0  0  0  0  0  0  0  0  0\\n    1.4958   -1.1000    0.0000 C   0  0  0  0  0  0  0  0  0  0  0  0\\n    3.4167   -1.3125    0.0000 C   0  0  0  0  0  0  0  0  0  0  0  0\\n    2.1125   -1.4500    0.0000 C   0  0  0  0  0  0  0  0  0  0  0  0\\n    4.0375   -0.9542    0.0000 C   0  0  0  0  0  0  0  0  0  0  0  0\\n  2  1  2  0\\n  3 13  1  0\\n  4  1  1  0\\n  5  4  2  0\\n  6  2  1  0\\n  7  2  1  0\\n  8  5  1  0\\n  9 10  2  0\\n 10  1  1  0\\n 11  5  1  0\\n 12  3  1  0\\n 13 14  2  0\\n 14 11  1  0\\n 15  3  2  0\\n 16  3  2  0\\n 17 25  1  0\\n 18 12  1  0\\n 19 12  1  0\\n 20 11  2  0\\n 21  7  2  0\\n 22 23  2  0\\n 23 20  1  0\\n 24 18  1  0\\n 25 19  1  0\\n 26  6  1  0\\n 27 10  1  0\\n 28 20  1  0\\n 29 17  1  0\\n 30 28  1  0\\n 31 27  1  0\\n 32 30  1  0\\n 33 31  1  0\\n  9  6  1  0\\n  8  7  1  0\\n 22 13  1  0\\n 17 24  1  0\\nM  END\\n\\n> <chembl_id>\\nCHEMBL192\\n\\n> <chembl_pref_name>\\nSILDENAFIL\\n\\n',\n   'standard_inchi': 'InChI=1S/C22H30N6O4S/c1-5-7-17-19-20(27(4)25-17)22(29)24-21(23-19)16-14-15(8-9-18(16)32-6-2)33(30,31)28-12-10-26(3)11-13-28/h8-9,14H,5-7,10-13H2,1-4H3,(H,23,24,29)',\n   'standard_inchi_key': 'BNRNXUUZRGQAQC-UHFFFAOYSA-N'},\n  'pref_name': 'SILDENAFIL'}]"
     },
     "metadata": {},
     "execution_count": 3
    }
   ],
   "source": [
    "matches, where = name2chembl('sildenafil')\n",
    "\n",
    "print(where)\n",
    "matches"
   ]
  },
  {
   "cell_type": "markdown",
   "metadata": {},
   "source": [
    "# Example where it gets matches from molecule_dictionary.synonyms"
   ]
  },
  {
   "cell_type": "code",
   "execution_count": 4,
   "metadata": {
    "tags": []
   },
   "outputs": [
    {
     "output_type": "stream",
     "name": "stdout",
     "text": "synonyms\n"
    },
    {
     "output_type": "execute_result",
     "data": {
      "text/plain": "[{'max_phase': 4,\n  'molecule_chembl_id': 'CHEMBL192',\n  'molecule_structures': {'canonical_smiles': 'CCCc1nn(C)c2c(=O)[nH]c(-c3cc(S(=O)(=O)N4CCN(C)CC4)ccc3OCC)nc12',\n   'molfile': '\\n     RDKit          2D\\n\\n 33 36  0  0  0  0  0  0  0  0999 V2000\\n    2.1000   -0.0042    0.0000 C   0  0  0  0  0  0  0  0  0  0  0  0\\n    2.1000    0.7000    0.0000 C   0  0  0  0  0  0  0  0  0  0  0  0\\n   -1.5375   -0.0042    0.0000 S   0  0  0  0  0  0  0  0  0  0  0  0\\n    1.4917   -0.3667    0.0000 N   0  0  0  0  0  0  0  0  0  0  0  0\\n    0.8792   -0.0042    0.0000 C   0  0  0  0  0  0  0  0  0  0  0  0\\n    2.8042    0.9083    0.0000 N   0  0  0  0  0  0  0  0  0  0  0  0\\n    1.4917    1.0625    0.0000 C   0  0  0  0  0  0  0  0  0  0  0  0\\n    0.8792    0.6833    0.0000 N   0  0  0  0  0  0  0  0  0  0  0  0\\n    3.2042    0.3458    0.0000 N   0  0  0  0  0  0  0  0  0  0  0  0\\n    2.8042   -0.2417    0.0000 C   0  0  0  0  0  0  0  0  0  0  0  0\\n    0.2875   -0.3750    0.0000 C   0  0  0  0  0  0  0  0  0  0  0  0\\n   -2.1583   -0.3750    0.0000 N   0  0  0  0  0  0  0  0  0  0  0  0\\n   -0.9333   -0.3750    0.0000 C   0  0  0  0  0  0  0  0  0  0  0  0\\n   -0.3208   -0.0333    0.0000 C   0  0  0  0  0  0  0  0  0  0  0  0\\n   -1.1875    0.6083    0.0000 O   0  0  0  0  0  0  0  0  0  0  0  0\\n   -1.8958    0.6083    0.0000 O   0  0  0  0  0  0  0  0  0  0  0  0\\n   -3.3958   -1.0917    0.0000 N   0  0  0  0  0  0  0  0  0  0  0  0\\n   -2.7833   -0.0042    0.0000 C   0  0  0  0  0  0  0  0  0  0  0  0\\n   -2.1583   -1.0917    0.0000 C   0  0  0  0  0  0  0  0  0  0  0  0\\n    0.2875   -1.1125    0.0000 C   0  0  0  0  0  0  0  0  0  0  0  0\\n    1.4917    1.7708    0.0000 O   0  0  0  0  0  0  0  0  0  0  0  0\\n   -0.9333   -1.1125    0.0000 C   0  0  0  0  0  0  0  0  0  0  0  0\\n   -0.3208   -1.4542    0.0000 C   0  0  0  0  0  0  0  0  0  0  0  0\\n   -3.3958   -0.3750    0.0000 C   0  0  0  0  0  0  0  0  0  0  0  0\\n   -2.7833   -1.4417    0.0000 C   0  0  0  0  0  0  0  0  0  0  0  0\\n    3.0750    1.5750    0.0000 C   0  0  0  0  0  0  0  0  0  0  0  0\\n    2.8042   -0.9500    0.0000 C   0  0  0  0  0  0  0  0  0  0  0  0\\n    0.8792   -1.4542    0.0000 O   0  0  0  0  0  0  0  0  0  0  0  0\\n   -3.9958   -1.4292    0.0000 C   0  0  0  0  0  0  0  0  0  0  0  0\\n    1.4958   -1.1000    0.0000 C   0  0  0  0  0  0  0  0  0  0  0  0\\n    3.4167   -1.3125    0.0000 C   0  0  0  0  0  0  0  0  0  0  0  0\\n    2.1125   -1.4500    0.0000 C   0  0  0  0  0  0  0  0  0  0  0  0\\n    4.0375   -0.9542    0.0000 C   0  0  0  0  0  0  0  0  0  0  0  0\\n  2  1  2  0\\n  3 13  1  0\\n  4  1  1  0\\n  5  4  2  0\\n  6  2  1  0\\n  7  2  1  0\\n  8  5  1  0\\n  9 10  2  0\\n 10  1  1  0\\n 11  5  1  0\\n 12  3  1  0\\n 13 14  2  0\\n 14 11  1  0\\n 15  3  2  0\\n 16  3  2  0\\n 17 25  1  0\\n 18 12  1  0\\n 19 12  1  0\\n 20 11  2  0\\n 21  7  2  0\\n 22 23  2  0\\n 23 20  1  0\\n 24 18  1  0\\n 25 19  1  0\\n 26  6  1  0\\n 27 10  1  0\\n 28 20  1  0\\n 29 17  1  0\\n 30 28  1  0\\n 31 27  1  0\\n 32 30  1  0\\n 33 31  1  0\\n  9  6  1  0\\n  8  7  1  0\\n 22 13  1  0\\n 17 24  1  0\\nM  END\\n\\n> <chembl_id>\\nCHEMBL192\\n\\n> <chembl_pref_name>\\nSILDENAFIL\\n\\n',\n   'standard_inchi': 'InChI=1S/C22H30N6O4S/c1-5-7-17-19-20(27(4)25-17)22(29)24-21(23-19)16-14-15(8-9-18(16)32-6-2)33(30,31)28-12-10-26(3)11-13-28/h8-9,14H,5-7,10-13H2,1-4H3,(H,23,24,29)',\n   'standard_inchi_key': 'BNRNXUUZRGQAQC-UHFFFAOYSA-N'},\n  'pref_name': 'SILDENAFIL'},\n {'max_phase': 4,\n  'molecule_chembl_id': 'CHEMBL1737',\n  'molecule_structures': {'canonical_smiles': 'CCCc1nn(C)c2c(=O)[nH]c(-c3cc(S(=O)(=O)N4CCN(C)CC4)ccc3OCC)nc12.O=C(O)CC(O)(CC(=O)O)C(=O)O',\n   'molfile': '\\n     RDKit          2D\\n\\n 46 48  0  0  0  0  0  0  0  0999 V2000\\n    9.2182    1.4870    0.0000 C   0  0  0  0  0  0  0  0  0  0  0  0\\n   11.8182    1.4870    0.0000 C   0  0  0  0  0  0  0  0  0  0  0  0\\n    7.9182    2.2370    0.0000 C   0  0  0  0  0  0  0  0  0  0  0  0\\n   13.1182    2.2370    0.0000 C   0  0  0  0  0  0  0  0  0  0  0  0\\n   10.5182    3.7377    0.0000 C   0  0  0  0  0  0  0  0  0  0  0  0\\n   10.5182    2.2370    0.0000 C   0  0  0  0  0  0  0  0  0  0  0  0\\n    6.8788    1.6373    0.0000 O   0  0  0  0  0  0  0  0  0  0  0  0\\n    7.9182    3.4370    0.0000 O   0  0  0  0  0  0  0  0  0  0  0  0\\n   14.1576    1.6373    0.0000 O   0  0  0  0  0  0  0  0  0  0  0  0\\n   13.1182    3.4370    0.0000 O   0  0  0  0  0  0  0  0  0  0  0  0\\n   11.5571    4.3384    0.0000 O   0  0  0  0  0  0  0  0  0  0  0  0\\n    9.4788    4.3374    0.0000 O   0  0  0  0  0  0  0  0  0  0  0  0\\n   10.5182    1.0370    0.0000 O   0  0  0  0  0  0  0  0  0  0  0  0\\n    4.0244    4.0756    0.0000 C   0  0  0  0  0  0  0  0  0  0  0  0\\n   -6.2133   -2.7101    0.0000 C   0  0  0  0  0  0  0  0  0  0  0  0\\n   -9.8661    8.0854    0.0000 C   0  0  0  0  0  0  0  0  0  0  0  0\\n    2.0907   -2.3426    0.0000 C   0  0  0  0  0  0  0  0  0  0  0  0\\n    3.6500    2.9355    0.0000 C   0  0  0  0  0  0  0  0  0  0  0  0\\n   -6.2134   -1.5101    0.0000 C   0  0  0  0  0  0  0  0  0  0  0  0\\n    2.1812    2.6271    0.0000 C   0  0  0  0  0  0  0  0  0  0  0  0\\n   -6.2185    2.9892    0.0000 C   0  0  0  0  0  0  0  0  0  0  0  0\\n   -6.2151    1.4892    0.0000 C   0  0  0  0  0  0  0  0  0  0  0  0\\n   -8.8235    5.9871    0.0000 C   0  0  0  0  0  0  0  0  0  0  0  0\\n   -7.5281    8.2391    0.0000 C   0  0  0  0  0  0  0  0  0  0  0  0\\n   -7.5233    5.2391    0.0000 C   0  0  0  0  0  0  0  0  0  0  0  0\\n   -6.2278    7.4912    0.0000 C   0  0  0  0  0  0  0  0  0  0  0  0\\n   -3.6204    2.9950    0.0000 C   0  0  0  0  0  0  0  0  0  0  0  0\\n   -4.9211    3.7421    0.0000 C   0  0  0  0  0  0  0  0  0  0  0  0\\n   -3.6168    1.4950    0.0000 C   0  0  0  0  0  0  0  0  0  0  0  0\\n    1.7138    1.2033    0.0000 C   0  0  0  0  0  0  0  0  0  0  0  0\\n   -4.9144    0.7421    0.0000 C   0  0  0  0  0  0  0  0  0  0  0  0\\n    0.2917    0.7475    0.0000 C   0  0  0  0  0  0  0  0  0  0  0  0\\n    0.2917   -0.7475    0.0000 C   0  0  0  0  0  0  0  0  0  0  0  0\\n   -2.3155    0.7475    0.0000 C   0  0  0  0  0  0  0  0  0  0  0  0\\n   -1.0028   -1.5132    0.0000 C   0  0  0  0  0  0  0  0  0  0  0  0\\n   -1.0028    1.5132    0.0000 N   0  0  0  0  0  0  0  0  0  0  0  0\\n   -2.3155   -0.7475    0.0000 N   0  0  0  0  0  0  0  0  0  0  0  0\\n    2.5889    0.0182    0.0000 N   0  0  0  0  0  0  0  0  0  0  0  0\\n   -8.8259    7.4871    0.0000 N   0  0  0  0  0  0  0  0  0  0  0  0\\n    1.7138   -1.2033    0.0000 N   0  0  0  0  0  0  0  0  0  0  0  0\\n   -6.2254    5.9912    0.0000 N   0  0  0  0  0  0  0  0  0  0  0  0\\n   -0.9991   -2.7132    0.0000 O   0  0  0  0  0  0  0  0  0  0  0  0\\n   -3.8864    5.8449    0.0000 O   0  0  0  0  0  0  0  0  0  0  0  0\\n   -3.8840    4.6451    0.0000 O   0  0  0  0  0  0  0  0  0  0  0  0\\n   -4.9142   -0.7587    0.0000 O   0  0  0  0  0  0  0  0  0  0  0  0\\n   -4.9245    5.2429    0.0000 S   0  0  0  0  0  0  0  0  0  0  0  0\\n  1  3  1  0\\n  1  6  1  0\\n  2  4  1  0\\n  2  6  1  0\\n  3  7  2  0\\n  3  8  1  0\\n  4  9  2  0\\n  4 10  1  0\\n  5  6  1  0\\n  5 11  2  0\\n  5 12  1  0\\n  6 13  1  0\\n 14 18  1  0\\n 15 19  1  0\\n 16 39  1  0\\n 17 40  1  0\\n 18 20  1  0\\n 19 45  1  0\\n 20 30  1  0\\n 21 22  2  0\\n 21 28  1  0\\n 22 31  1  0\\n 23 25  1  0\\n 23 39  1  0\\n 24 26  1  0\\n 24 39  1  0\\n 25 41  1  0\\n 26 41  1  0\\n 27 28  2  0\\n 27 29  1  0\\n 28 46  1  0\\n 29 31  2  0\\n 29 34  1  0\\n 30 32  1  0\\n 30 38  2  0\\n 31 45  1  0\\n 32 33  2  0\\n 32 36  1  0\\n 33 35  1  0\\n 33 40  1  0\\n 34 36  2  0\\n 34 37  1  0\\n 35 37  1  0\\n 35 42  2  0\\n 38 40  1  0\\n 41 46  1  0\\n 43 46  2  0\\n 44 46  2  0\\nM  END\\n\\n> <chembl_id>\\nCHEMBL1737\\n\\n> <chembl_pref_name>\\nSILDENAFIL CITRATE\\n\\n',\n   'standard_inchi': 'InChI=1S/C22H30N6O4S.C6H8O7/c1-5-7-17-19-20(27(4)25-17)22(29)24-21(23-19)16-14-15(8-9-18(16)32-6-2)33(30,31)28-12-10-26(3)11-13-28;7-3(8)1-6(13,5(11)12)2-4(9)10/h8-9,14H,5-7,10-13H2,1-4H3,(H,23,24,29);13H,1-2H2,(H,7,8)(H,9,10)(H,11,12)',\n   'standard_inchi_key': 'DEIYFTQMQPDXOT-UHFFFAOYSA-N'},\n  'pref_name': 'SILDENAFIL CITRATE'}]"
     },
     "metadata": {},
     "execution_count": 4
    }
   ],
   "source": [
    "matches, where = name2chembl('viagra')\n",
    "\n",
    "print(where)\n",
    "matches"
   ]
  },
  {
   "cell_type": "markdown",
   "metadata": {},
   "source": [
    "# Example where it gets a match using the search feature"
   ]
  },
  {
   "cell_type": "code",
   "execution_count": 5,
   "metadata": {
    "tags": []
   },
   "outputs": [
    {
     "output_type": "stream",
     "name": "stdout",
     "text": "None\n"
    }
   ],
   "source": [
    "matches, where = name2chembl('Azaguanine-8')\n",
    "\n",
    "print(where)\n",
    "matches"
   ]
  },
  {
   "cell_type": "markdown",
   "metadata": {},
   "source": [
    "## Elasticsearch always tries to retrieve results so matches retrieved with the use_search should be manually curated"
   ]
  },
  {
   "cell_type": "code",
   "execution_count": 6,
   "metadata": {
    "tags": []
   },
   "outputs": [
    {
     "output_type": "stream",
     "name": "stdout",
     "text": "search\n"
    },
    {
     "output_type": "execute_result",
     "data": {
      "text/plain": "[{'max_phase': 0,\n  'molecule_chembl_id': 'CHEMBL374107',\n  'molecule_structures': {'canonical_smiles': 'Nc1nc(O)c2[nH]nnc2n1',\n   'molfile': '\\n     RDKit          2D\\n\\n 11 12  0  0  0  0  0  0  0  0999 V2000\\n   -0.4152    0.4905    0.0000 C   0  0  0  0  0  0  0  0  0  0  0  0\\n    0.2993    0.9030    0.0000 N   0  0  0  0  0  0  0  0  0  0  0  0\\n    1.0137    0.4905    0.0000 C   0  0  0  0  0  0  0  0  0  0  0  0\\n    1.7282    0.9030    0.0000 N   0  0  0  0  0  0  0  0  0  0  0  0\\n    1.0137   -0.3345    0.0000 N   0  0  0  0  0  0  0  0  0  0  0  0\\n    0.2993   -0.7470    0.0000 C   0  0  0  0  0  0  0  0  0  0  0  0\\n    0.2993   -1.5720    0.0000 O   0  0  0  0  0  0  0  0  0  0  0  0\\n   -0.4152   -0.3345    0.0000 C   0  0  0  0  0  0  0  0  0  0  0  0\\n   -1.1998   -0.5894    0.0000 N   0  0  0  0  0  0  0  0  0  0  0  0\\n   -1.6848    0.0780    0.0000 N   0  0  0  0  0  0  0  0  0  0  0  0\\n   -1.1998    0.7455    0.0000 N   0  0  0  0  0  0  0  0  0  0  0  0\\n  1  2  1  0\\n  1  8  2  0\\n  1 11  1  0\\n  3  2  2  0\\n  3  4  1  0\\n  3  5  1  0\\n  6  5  2  0\\n  6  7  1  0\\n  8  6  1  0\\n  8  9  1  0\\n  9 10  1  0\\n 10 11  2  0\\nM  END\\n\\n> <chembl_id>\\nCHEMBL374107\\n\\n> <chembl_pref_name>\\n8-AZAGUANINE\\n\\n',\n   'standard_inchi': 'InChI=1S/C4H4N6O/c5-4-6-2-1(3(11)7-4)8-10-9-2/h(H4,5,6,7,8,9,10,11)',\n   'standard_inchi_key': 'LPXQRXLUHJKZIE-UHFFFAOYSA-N'},\n  'pref_name': '8-AZAGUANINE'}]"
     },
     "metadata": {},
     "execution_count": 6
    }
   ],
   "source": [
    "matches, where = name2chembl('Azaguanine-8', use_search=True)\n",
    "\n",
    "print(where)\n",
    "matches"
   ]
  },
  {
   "cell_type": "code",
   "execution_count": null,
   "metadata": {},
   "outputs": [],
   "source": []
  }
 ],
 "metadata": {
  "kernelspec": {
   "display_name": "Python 3",
   "language": "python",
   "name": "python3"
  },
  "language_info": {
   "codemirror_mode": {
    "name": "ipython",
    "version": 3
   },
   "file_extension": ".py",
   "mimetype": "text/x-python",
   "name": "python",
   "nbconvert_exporter": "python",
   "pygments_lexer": "ipython3",
   "version": "3.8.2-final"
  }
 },
 "nbformat": 4,
 "nbformat_minor": 4
}