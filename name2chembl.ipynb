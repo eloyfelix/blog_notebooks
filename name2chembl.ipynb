{
 "cells": [
  {
   "cell_type": "markdown",
   "metadata": {},
   "source": [
    "# Drug name to ChEMBL function\n",
    "\n",
    "Single function using chembl_webresource_client: https://pypi.org/project/chembl-webresource-client/\n",
    "\n",
    "Tries 3 different things (in order):\n",
    "\n",
    "1. Case insensitive match against molecule_dictionary.pref_name\n",
    "2. Case insensitive match against molecule_synonyms.synonyms\n",
    "3. Use elastic search as a last resort (optional)\n",
    "\n",
    "Note: not all pref_name are included in molecule_synonyms so it's not possible to skip step 1.\n",
    "\n",
    "A name can match against many chembl compounds. Manual curation should be considered under this situation (reason to keep smiles, inchi and inchi key)."
   ]
  },
  {
   "cell_type": "code",
   "execution_count": null,
   "metadata": {},
   "outputs": [],
   "source": [
    "# install the webresource client\n",
    "!pip install chembl_webresource_client"
   ]
  },
  {
   "cell_type": "code",
   "execution_count": 2,
   "metadata": {},
   "outputs": [],
   "source": [
    "from chembl_webresource_client.new_client import new_client\n",
    "\n",
    "def name2chembl(name, use_search=False):\n",
    "    \"\"\"\n",
    "    Tries to retrieve the chembl_id and the structure for given a drug name.\n",
    "    \"\"\"\n",
    "    # search in pref_name\n",
    "    # iexact does exact case insensitive search\n",
    "    molecule = new_client.molecule\n",
    "    res = list(molecule.filter(pref_name__iexact=name))\n",
    "    if res:\n",
    "        return [[x['molecule_chembl_id'],\n",
    "                 x['pref_name'],\n",
    "                 x['molecule_structures']['canonical_smiles'],\n",
    "                 x['molecule_structures']['standard_inchi'],\n",
    "                 x['molecule_structures']['standard_inchi_key']] for x in res], 'pref_name'\n",
    "    else:\n",
    "        # if pref_name matches, look the synonyms\n",
    "        # some pref_name are not included in molecule_synonyms so is not possible\n",
    "        # to go directly to this step\n",
    "        res = list(molecule.filter(molecule_synonyms__molecule_synonym__iexact=name))\n",
    "        if res:\n",
    "            return [[x['molecule_chembl_id'], \n",
    "                     x['pref_name'],\n",
    "                     x['molecule_structures']['canonical_smiles'],\n",
    "                     x['molecule_structures']['standard_inchi'],\n",
    "                     x['molecule_structures']['standard_inchi_key']] for x in res], 'synonyms'\n",
    "        else:\n",
    "            if use_search:\n",
    "                # last resort:\n",
    "                #   search function uses elastic and could eventually retrieve inexact matches\n",
    "                #   can also take a while\n",
    "                res = [molecule.search(name)[0]]\n",
    "                if res:\n",
    "                    return [[x['molecule_chembl_id'],\n",
    "                             x['pref_name'],\n",
    "                             x['molecule_structures']['canonical_smiles'],\n",
    "                             x['molecule_structures']['standard_inchi'],\n",
    "                             x['molecule_structures']['standard_inchi_key']] for x in res], 'search'\n",
    "    return None"
   ]
  },
  {
   "cell_type": "markdown",
   "metadata": {},
   "source": [
    "# Example getting matches from molecule_dictionary.pref_name"
   ]
  },
  {
   "cell_type": "code",
   "execution_count": 3,
   "metadata": {},
   "outputs": [
    {
     "name": "stdout",
     "output_type": "stream",
     "text": [
      "pref_name\n"
     ]
    },
    {
     "data": {
      "text/plain": [
       "[['CHEMBL192',\n",
       "  'SILDENAFIL',\n",
       "  'CCCc1nn(C)c2c(=O)[nH]c(-c3cc(S(=O)(=O)N4CCN(C)CC4)ccc3OCC)nc12',\n",
       "  'InChI=1S/C22H30N6O4S/c1-5-7-17-19-20(27(4)25-17)22(29)24-21(23-19)16-14-15(8-9-18(16)32-6-2)33(30,31)28-12-10-26(3)11-13-28/h8-9,14H,5-7,10-13H2,1-4H3,(H,23,24,29)',\n",
       "  'BNRNXUUZRGQAQC-UHFFFAOYSA-N']]"
      ]
     },
     "execution_count": 3,
     "metadata": {},
     "output_type": "execute_result"
    }
   ],
   "source": [
    "matches, where = name2chembl('sildenafil', use_search=True)\n",
    "\n",
    "print(where)\n",
    "matches"
   ]
  },
  {
   "cell_type": "markdown",
   "metadata": {},
   "source": [
    "# Example getting matches from molecule_dictionary.synonyms"
   ]
  },
  {
   "cell_type": "code",
   "execution_count": 4,
   "metadata": {},
   "outputs": [
    {
     "name": "stdout",
     "output_type": "stream",
     "text": [
      "synonyms\n"
     ]
    },
    {
     "data": {
      "text/plain": [
       "[['CHEMBL192',\n",
       "  'SILDENAFIL',\n",
       "  'CCCc1nn(C)c2c(=O)[nH]c(-c3cc(S(=O)(=O)N4CCN(C)CC4)ccc3OCC)nc12',\n",
       "  'InChI=1S/C22H30N6O4S/c1-5-7-17-19-20(27(4)25-17)22(29)24-21(23-19)16-14-15(8-9-18(16)32-6-2)33(30,31)28-12-10-26(3)11-13-28/h8-9,14H,5-7,10-13H2,1-4H3,(H,23,24,29)',\n",
       "  'BNRNXUUZRGQAQC-UHFFFAOYSA-N'],\n",
       " ['CHEMBL1737',\n",
       "  'SILDENAFIL CITRATE',\n",
       "  'CCCc1nn(C)c2c(=O)[nH]c(-c3cc(S(=O)(=O)N4CCN(C)CC4)ccc3OCC)nc12.O=C(O)CC(O)(CC(=O)O)C(=O)O',\n",
       "  'InChI=1S/C22H30N6O4S.C6H8O7/c1-5-7-17-19-20(27(4)25-17)22(29)24-21(23-19)16-14-15(8-9-18(16)32-6-2)33(30,31)28-12-10-26(3)11-13-28;7-3(8)1-6(13,5(11)12)2-4(9)10/h8-9,14H,5-7,10-13H2,1-4H3,(H,23,24,29);13H,1-2H2,(H,7,8)(H,9,10)(H,11,12)',\n",
       "  'DEIYFTQMQPDXOT-UHFFFAOYSA-N']]"
      ]
     },
     "execution_count": 4,
     "metadata": {},
     "output_type": "execute_result"
    }
   ],
   "source": [
    "matches, where = name2chembl('viagra', use_search=True)\n",
    "\n",
    "print(where)\n",
    "matches"
   ]
  },
  {
   "cell_type": "markdown",
   "metadata": {},
   "source": [
    "# Example getting a match using the search feature"
   ]
  },
  {
   "cell_type": "code",
   "execution_count": 5,
   "metadata": {},
   "outputs": [
    {
     "name": "stdout",
     "output_type": "stream",
     "text": [
      "search\n"
     ]
    },
    {
     "data": {
      "text/plain": [
       "[['CHEMBL374107',\n",
       "  '8-AZAGUANINE',\n",
       "  'Nc1nc(O)c2[nH]nnc2n1',\n",
       "  'InChI=1S/C4H4N6O/c5-4-6-2-1(3(11)7-4)8-10-9-2/h(H4,5,6,7,8,9,10,11)',\n",
       "  'LPXQRXLUHJKZIE-UHFFFAOYSA-N']]"
      ]
     },
     "execution_count": 5,
     "metadata": {},
     "output_type": "execute_result"
    }
   ],
   "source": [
    "matches, where = name2chembl('Azaguanine-8', use_search=True)\n",
    "\n",
    "print(where)\n",
    "matches"
   ]
  },
  {
   "cell_type": "code",
   "execution_count": null,
   "metadata": {},
   "outputs": [],
   "source": []
  }
 ],
 "metadata": {
  "kernelspec": {
   "display_name": "Python 3",
   "language": "python",
   "name": "python3"
  },
  "language_info": {
   "codemirror_mode": {
    "name": "ipython",
    "version": 3
   },
   "file_extension": ".py",
   "mimetype": "text/x-python",
   "name": "python",
   "nbconvert_exporter": "python",
   "pygments_lexer": "ipython3",
   "version": "3.8.2"
  }
 },
 "nbformat": 4,
 "nbformat_minor": 4
}
